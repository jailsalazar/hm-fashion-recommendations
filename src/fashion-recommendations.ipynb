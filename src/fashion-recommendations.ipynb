{
 "cells": [
  {
   "cell_type": "markdown",
   "metadata": {},
   "source": [
    "## H&M Personalized Fashion Recommendations\n",
    "\n",
    "This notebook contains the approach taken for the 2022 H&M Personalized Fashion Recommendations Kaggle competition. \n",
    "\n",
    "*Visit repo README.md for instructions on how to execute notebook locally.*\n",
    "\n",
    "Developed By **Jaileen Salazar**\n",
    "_____"
   ]
  },
  {
   "cell_type": "markdown",
   "metadata": {},
   "source": [
    "### Required Dependencies"
   ]
  },
  {
   "cell_type": "code",
   "execution_count": null,
   "metadata": {},
   "outputs": [],
   "source": [
    "# Data Processing\n",
    "import pandas as pd\n",
    "import numpy as np\n",
    "import csv\n",
    "import re\n",
    "from sklearn.model_selection import train_test_split\n",
    "from keras.preprocessing.text import Tokenizer\n",
    "from keras.preprocessing.sequence import pad_sequences\n",
    "\n",
    "# RNN\n",
    "from keras.models import Sequential\n",
    "from keras.layers import Dense, LSTM, Embedding, SpatialDropout1D, Bidirectional\n",
    "from keras.callbacks import EarlyStopping\n",
    "from keras.metrics import Recall, Precision"
   ]
  },
  {
   "cell_type": "markdown",
   "metadata": {},
   "source": [
    "### Constants"
   ]
  },
  {
   "cell_type": "code",
   "execution_count": null,
   "metadata": {},
   "outputs": [],
   "source": [
    "# FILE PATHS\n",
    "TRAIN_PATH = '../data/train.csv'\n",
    "TEST_PATH = '../data/test.csv'\n",
    "\n",
    "# FILE FORMATS\n",
    "TRAIN_FORMAT = {'ID': int, 'TEXT': str, 'LABEL': int}\n",
    "TEST_FORMAT = {'ID': int, 'TEXT': str}\n",
    "\n",
    "# Regular expressions used for preprocessing\n",
    "REPLACE_BY_SPACE_RE = re.compile('[/(){}\\[\\]\\|@,;]')\n",
    "BAD_SYMBOLS_RE = re.compile('[^0-9a-z #+_]')\n",
    "HTML_TAGS_RE = re.compile('<.*?>')\n",
    "TOKEN_FILTERS = '!\"#$%&()*+,-./:;<=>?@[\\]^_`{|}~'"
   ]
  },
  {
   "cell_type": "markdown",
   "metadata": {},
   "source": [
    "### Fashion Recommendations Class"
   ]
  },
  {
   "cell_type": "code",
   "execution_count": null,
   "metadata": {},
   "outputs": [],
   "source": [
    "class FashionRecommendations():\n",
    "    def __init__(self):\n",
    "        pass\n",
    "\n",
    "    def _preprocess_text(this, text):\n",
    "        \"\"\"\"\"\n",
    "            Text preprocessing to polish data.\n",
    "        \"\"\"\n",
    "        text = text.lower()\n",
    "        text = HTML_TAGS_RE.sub('', text)\n",
    "        text = REPLACE_BY_SPACE_RE.sub(' ', text)\n",
    "        text = BAD_SYMBOLS_RE.sub('', text)\n",
    "        return text\n",
    "\n",
    "    def parse_data(this, filepath, datatypes):\n",
    "        \"\"\"\n",
    "            Open file, apply preprocessing and return formatted dataframe\n",
    "        \"\"\"\n",
    "        df_data = pd.read_csv(filepath, dtype=datatypes)\n",
    "        return df_data"
   ]
  }
 ],
 "metadata": {
  "language_info": {
   "name": "python"
  },
  "orig_nbformat": 4
 },
 "nbformat": 4,
 "nbformat_minor": 2
}
